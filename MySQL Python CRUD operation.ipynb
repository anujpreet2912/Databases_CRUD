{
 "cells": [
  {
   "cell_type": "code",
   "execution_count": 6,
   "metadata": {},
   "outputs": [],
   "source": [
    "#Creating a Table\n",
    "import pymysql\n",
    "conn= pymysql.connect(host=\"localhost\",user=\"root\",password=\"\",db=\"user1\")\n",
    "myCursor=conn.cursor()\n",
    "#creating table\n",
    "myCursor.execute(\"\"\"Create TABLE names\n",
    "   ( id int primary key,\n",
    "   name varchar(20) )\n",
    "   \"\"\")\n",
    "conn.commit()\n",
    "conn.close()\n",
    "print(\"Table Created\")"
   ]
  },
  {
   "cell_type": "code",
   "execution_count": null,
   "metadata": {},
   "outputs": [],
   "source": [
    "#Inserting records\n",
    "import pymysql\n",
    "conn= pymysql.connect(host=\"localhost\",user=\"root\",password=\"\",db=\"user1\")\n",
    "myCursor=conn.cursor()\n",
    "myCursor.execute(\"INSERT into NAMES(id, name) VALUES(4,'Harris')\")\n",
    "conn.commit()\n",
    "print(\"Data inserted\")\n",
    "conn.close()"
   ]
  },
  {
   "cell_type": "code",
   "execution_count": null,
   "metadata": {},
   "outputs": [],
   "source": [
    "#deleting data\n",
    "import pymysql\n",
    "conn= pymysql.connect(host=\"localhost\",user=\"root\",password=\"\",db=\"user1\")\n",
    "myCursor=conn.cursor()\n",
    "myCursor.execute(\"Delete from names where id=3\")\n",
    "conn.commit()\n",
    "print(\"Data deleted\")\n",
    "conn.close()"
   ]
  },
  {
   "cell_type": "code",
   "execution_count": 19,
   "metadata": {},
   "outputs": [
    {
     "name": "stdout",
     "output_type": "stream",
     "text": [
      "Data deleted\n"
     ]
    }
   ],
   "source": [
    "#Updating record\n",
    "import pymysql\n",
    "conn= pymysql.connect(host=\"localhost\",user=\"root\",password=\"\",db=\"user1\")\n",
    "myCursor=conn.cursor()\n",
    "myCursor.execute(\"update names set name='Bob' where id=2\")\n",
    "conn.commit()\n",
    "print(\"Data Updated\")\n",
    "conn.close()"
   ]
  },
  {
   "cell_type": "code",
   "execution_count": 20,
   "metadata": {},
   "outputs": [
    {
     "name": "stdout",
     "output_type": "stream",
     "text": [
      "((1, 'John'), (2, 'Bob'))\n"
     ]
    }
   ],
   "source": [
    "#Searching record\n",
    "import pymysql\n",
    "conn= pymysql.connect(host=\"localhost\",user=\"root\",password=\"\",db=\"user1\")\n",
    "myCursor=conn.cursor()\n",
    "myCursor.execute(\"select *from names \")\n",
    "conn.commit()\n",
    "print(myCursor.fetchall(),end=\"\\n\")\n",
    "conn.close()\n"
   ]
  },
  {
   "cell_type": "code",
   "execution_count": null,
   "metadata": {},
   "outputs": [],
   "source": []
  }
 ],
 "metadata": {
  "kernelspec": {
   "display_name": "Python 3",
   "language": "python",
   "name": "python3"
  },
  "language_info": {
   "codemirror_mode": {
    "name": "ipython",
    "version": 3
   },
   "file_extension": ".py",
   "mimetype": "text/x-python",
   "name": "python",
   "nbconvert_exporter": "python",
   "pygments_lexer": "ipython3",
   "version": "3.6.5"
  }
 },
 "nbformat": 4,
 "nbformat_minor": 2
}
