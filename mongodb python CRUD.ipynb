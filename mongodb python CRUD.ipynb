{
 "cells": [
  {
   "cell_type": "code",
   "execution_count": null,
   "metadata": {},
   "outputs": [],
   "source": [
    "from pymongo import MongoClient\n",
    "democlient=MongoClient()\n",
    "\n",
    "#database connection\n",
    "myclient=MongoClient('localhost',27017)\n",
    "mydb=myclient['testdb']\n",
    "#create collection\n",
    "mycol=mydb['dbtable']\n",
    "print('Database connected')\n",
    "#checking list of databases\n",
    "dblist=myclient.list_database_names()\n",
    "if input('Enter DB') in dblist:\n",
    "    print('The database exist')\n",
    "else:\n",
    "    print('Database not presented')\n",
    "    \n",
    "    \n",
    "    \n",
    "    \n",
    "    \n",
    "    \n",
    "    \n",
    "# inserting data in database\n",
    "mylist = [\n",
    "    {\"id\":1, \"Name\":\"John\", \"Email\":\"John@gmail.com\"},\n",
    "    {\"id\":2, \"Name\":\"Peter\", \"Email\":\"Peter@gmail.com\"},\n",
    "    {\"id\":3, \"Name\":\"Jack\", \"Email\":\"Jack@gmail.com\"},\n",
    "    {\"id\":4, \"Name\":\"Harris\", \"Email\":\"Harris@gmail.com\"},\n",
    "    {\"id\":5, \"Name\":\"Joy\", \"Email\":\"Joy@gmail.com\"}\n",
    "    \n",
    "]\n",
    "x = mycol.insert_many(mylist)\n",
    "print('Data inserted')\n",
    "\n",
    "\n",
    "    "
   ]
  },
  {
   "cell_type": "code",
   "execution_count": null,
   "metadata": {},
   "outputs": [],
   "source": [
    "#finding data in database\n",
    "for y in mycol.find():\n",
    "    print(y)\n"
   ]
  },
  {
   "cell_type": "code",
   "execution_count": null,
   "metadata": {},
   "outputs": [],
   "source": [
    "#deleting a specific record\n",
    "#myquery=[\"name\" :\"John\"]\n",
    "#mydoc=mycol.delete_one(myquery)\n",
    "#deleting many records\n",
    "myquery1=[\"name\" :[\"$regex\":\"^J\"]\n",
    "mydoc=mycol.delete_many(myquery1)\n",
    "for y in mycol.find():\n",
    "    print(y)"
   ]
  },
  {
   "cell_type": "code",
   "execution_count": null,
   "metadata": {},
   "outputs": [],
   "source": [
    "#updating a specific record\n",
    "myquery=[\"name\" :\"John\"]\n",
    "newvalues=[\"$set\":[\"name\":\"Johnny\"]]\n",
    "mydoc=mycol.update_one(myquery,newvalues)\n",
    "for y in mydoc.find():\n",
    "    print(y)"
   ]
  },
  {
   "cell_type": "code",
   "execution_count": null,
   "metadata": {},
   "outputs": [],
   "source": [
    "#dropping a database\n",
    "democlient.drop_database(\"testdb\")\n"
   ]
  },
  {
   "cell_type": "code",
   "execution_count": null,
   "metadata": {},
   "outputs": [],
   "source": []
  },
  {
   "cell_type": "code",
   "execution_count": null,
   "metadata": {},
   "outputs": [],
   "source": []
  },
  {
   "cell_type": "code",
   "execution_count": null,
   "metadata": {},
   "outputs": [],
   "source": []
  },
  {
   "cell_type": "code",
   "execution_count": null,
   "metadata": {},
   "outputs": [],
   "source": []
  },
  {
   "cell_type": "code",
   "execution_count": null,
   "metadata": {},
   "outputs": [],
   "source": []
  },
  {
   "cell_type": "code",
   "execution_count": null,
   "metadata": {},
   "outputs": [],
   "source": []
  },
  {
   "cell_type": "code",
   "execution_count": null,
   "metadata": {},
   "outputs": [],
   "source": []
  },
  {
   "cell_type": "code",
   "execution_count": null,
   "metadata": {},
   "outputs": [],
   "source": []
  },
  {
   "cell_type": "code",
   "execution_count": null,
   "metadata": {},
   "outputs": [],
   "source": []
  }
 ],
 "metadata": {
  "kernelspec": {
   "display_name": "Python 3",
   "language": "python",
   "name": "python3"
  },
  "language_info": {
   "codemirror_mode": {
    "name": "ipython",
    "version": 3
   },
   "file_extension": ".py",
   "mimetype": "text/x-python",
   "name": "python",
   "nbconvert_exporter": "python",
   "pygments_lexer": "ipython3",
   "version": "3.6.5"
  }
 },
 "nbformat": 4,
 "nbformat_minor": 2
}
